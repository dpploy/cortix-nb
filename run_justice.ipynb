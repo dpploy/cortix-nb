{
 "cells": [
  {
   "cell_type": "markdown",
   "metadata": {},
   "source": [
    "`Cortix` 2019 **03Aug2019**\n",
    "\n",
    "# Criminal Justice Dynamics Example\n",
    "* This is part of the [Cortix](https://cortix.org) Notebook [guides](https://github.com/dpploy/cortix-nb)\n",
    "([index](https://github.com/dpploy/cortix-nb/blob/master/droplet.ipynb)).\n",
    "* Select each of the cells below and run them sequentially (use the run button, `>|` on the tool bar or use the `Cell` option on the menu bar).\n",
    "* Alternatively, on the menu bar run all cells: `Cell -> Run All`.\n",
    "\n",
    "$  \n",
    "  \\newcommand{\\Amtrx}{\\boldsymbol{\\mathsf{A}}}\n",
    "  \\newcommand{\\Bmtrx}{\\boldsymbol{\\mathsf{B}}}\n",
    "  \\newcommand{\\Smtrx}{\\boldsymbol{\\mathsf{S}}}\n",
    "  \\newcommand{\\xvec}{\\boldsymbol{\\mathsf{x}}}\n",
    "  \\newcommand{\\vvar}{\\boldsymbol{v}}\n",
    "  \\newcommand{\\fvar}{\\boldsymbol{f}}\n",
    "  \\newcommand{\\Power}{\\mathcal{P}}\n",
    "  \\newcommand{\\bm}[1]{{\\boldsymbol{#1}}}\n",
    "$"
   ]
  },
  {
   "cell_type": "markdown",
   "metadata": {},
   "source": [
    "---\n",
    "## Table of Contents\n",
    "* [Introduction](#intro)\n",
    "  - [Prison population model](#prisonmodel)\n",
    "  - [Parole population model](#parolemodel)\n",
    "  - [Street population model](#streetmodel)\n",
    "  - [Jail population model](#jailmodel)\n",
    "* [Write a Cortix run file](#runfile)\n",
    "* [Verify the network connectivity](#net)\n",
    "* [Run the network simulation](#run)\n",
    "* [Results inspection through Cortix](#inspect)\n",
    "   - [Results: Prison](#prison)\n",
    "   - [Results: Parole](#parole)\n",
    "---"
   ]
  },
  {
   "cell_type": "markdown",
   "metadata": {},
   "source": [
    "## Introduction<a id=\"intro\"></a>"
   ]
  },
  {
   "cell_type": "markdown",
   "metadata": {},
   "source": [
    "This Cortix use-case simulates the population dynamics across the network of a criminal justice system."
   ]
  },
  {
   "cell_type": "markdown",
   "metadata": {},
   "source": [
    "### Prison node population model<a id=\"prisonmodel\"></a>"
   ]
  },
  {
   "cell_type": "markdown",
   "metadata": {},
   "source": [
    "The equation for the population balance in the prison node is:\n",
    "\n",
    "\\begin{equation*}\n",
    "  d_t f_{\\text{p}_g}  = I_{\\text{p}_g} - O_{\\text{p}_g} - D_{\\text{p}_g} ,\n",
    "\\end{equation*}\n",
    "\n",
    "where $f_{\\text{p}_g}(t)$ is the population for group $g$ at time $t$, $I_{\\text{p}_g}(t)$ is the population inflow for group $g$, $O_{\\text{p}_g}(t)$ is the outflow, and $D_{\\text{p}_g}(t)$ is death rate term in prison for a given group $g$. The inflow and outflow rates depend on the particular coupling to the prison node. For example, the contribution from the \"adjucation\" node (awaiting adjudication) to the prison inflow is proposed as follows:\n",
    "\n",
    "\\begin{equation*}\n",
    "c_\\text{a,p}^{(g)} \\, f_{\\text{a}_g}(t) \\, \\mu_\\text{a,p}^{(g)}  ,\n",
    "\\end{equation*}\n",
    "\n",
    "where $c_\\text{a,p}^{(g)}$ is the commitment rate to \"prison\" from the \"adjucation\" for the population group $g$ (adjucation \"a\" to prison \"p\"), $f_{\\text{a}_g}(t)$ is the population in the \"adjucation\" node, and $\\mu_{\\text{a}_g}$ is a conviction rate modifier. These group-dependent multiplying coefficients could be time dependent.\n",
    "\n",
    "Hence a tentative form of inflow reads\n",
    "\n",
    "\\begin{equation*}\n",
    "I_{\\text{p}_g}(t) = c_\\text{a,p}^{(g)} \\, f_{\\text{a}_g}(t) \\, \\mu_\\text{a,p}^{(g)} + \n",
    "                    c_\\text{j,p}^{(g)} \\, f_{\\text{j}_g}(t) \\, \\mu_\\text{j,p}^{(g)} +\n",
    "                    c_\\text{e,p}^{(g)} \\, f_{\\text{e}_g}(t) \\, \\mu_\\text{e,p}^{(g)} ,\n",
    "\\end{equation*}\n",
    "\n",
    "where the last two terms refer to the \"jail\" node and \"parole\" nodes respectively.  Note that the inflow is dependent on populations from distinct nodes ($f_{\\text{a}_g}$, $f_{\\text{j}_g}$ and $f_{\\text{e}_g}$).\n",
    "\n",
    "A tentative form for the outflow is similar but with one key difference\n",
    "\n",
    "\\begin{equation*}\n",
    "O_{\\text{p}_g}(t) = c_\\text{p,0}^{(g)} \\, f_{\\text{p}_g}(t) \\, \\mu_\\text{p,0}^{(g)} +\n",
    "                    c_\\text{p,e}^{(g)} \\, f_{\\text{p}_g}(t) \\, \\mu_\\text{p,e}^{(g)} ,\n",
    "\\end{equation*}\n",
    "\n",
    "that is, the rates are dependent on the population in prison. The first coefficient (or time-dependent) quantity is the unconditional rate of outflow associated to the prison population, $c_\\text{p,0}^{(g)}$,  and the second coefficient is its modifier $\\mu_\\text{p,0}^{(g)}$. The second term corresponds to the outflow of the prison population group to the parole node. This is better expressed as\n",
    "\n",
    "\\begin{equation*}\n",
    "O_{\\text{p}_g}(t) = \\bigl( c_\\text{p,0}^{(g)} \\, \\mu_\\text{p,0}^{(g)} +\n",
    "                           c_\\text{p,e}^{(g)}  \\mu_\\text{p,e}^{(g)} \\big) \\, f_{\\text{p}_g}(t) .\n",
    "\\end{equation*}\n",
    "\n",
    "All together the prison population balance gives\n",
    "\n",
    "\\begin{equation*}\n",
    "d_t f_{\\text{p}_g}(t) = \n",
    "     \\bigl( c_\\text{a,p}^{(g)} \\, f_{\\text{a}_g}(t) \\, \\mu_\\text{a,p}^{(g)} +  \n",
    "            c_\\text{j,p}^{(g)} \\, f_{\\text{j}_g}(t) \\, \\mu_\\text{j,p}^{(g)} +  \n",
    "            c_\\text{e,p}^{(g)} \\, f_{\\text{e}_g}(t) \\, \\mu_\\text{e,p}^{(g)}  \n",
    "     \\bigr) - \n",
    "     \\bigl( c_\\text{p,0}^{(g)} \\, \\mu_\\text{p,0}^{(g)} + \n",
    "            c_\\text{p,e}^{(g)} \\, \\mu_\\text{p,e}^{(g)}\n",
    "     \\big) \\,f_{\\text{p}_g}(t) -\n",
    "     D_{\\text{p}_g} ,\n",
    "\\end{equation*}\n",
    "\n",
    "where the first term in parenthesis on the right side depends on populations on external nodes, the second term depends on the prison population, and the third term is likely a constant for each group. This population balance is non-conservative if the $D_{\\text{p}_g}$ term is non-zero which is always the case; no one lives for ever, less so in prison."
   ]
  },
  {
   "cell_type": "markdown",
   "metadata": {},
   "source": [
    "### Parole node population model<a id=\"parolemodel\"></a>"
   ]
  },
  {
   "cell_type": "markdown",
   "metadata": {},
   "source": [
    "The equation for the population balance in the parole node is similar as before:\n",
    "\n",
    "\\begin{equation*}\n",
    "  d_t f_{\\text{e}_g}  = I_{\\text{e}_g} - O_{\\text{e}_g} - D_{\\text{e}_g} ,\n",
    "\\end{equation*}\n",
    "\n",
    "where $f_{\\text{e}_g}(t)$ is the population for group $g$ at time $t$, $I_{\\text{e}_g}(t)$ is the population inflow for group $g$, $O_{\\text{e}_g}(t)$ is the outflow, and $D_{\\text{e}_g}(t)$ is death rate term in parole for a given group $g$. The inflow and outflow rates depend on the particular coupling to the prison node that is,\n",
    "\n",
    "\\begin{equation*}\n",
    "  I_{\\text{e}_g}(t) = c_\\text{p,e}^{(g)} \\, f_{\\text{p}_g}(t) \\, \\mu_\\text{p,e}^{(g)}.\n",
    "\\end{equation*}\n",
    "\n",
    "Note this term is the outflow term in the prison node model. Likewise the outflow term in the parole node has two contributions and it reads\n",
    "\n",
    "\\begin{equation*}\n",
    " O_{\\text{e}_g}(t) = \\bigl( \n",
    "                     c_\\text{e,0}^{(g)} \\, \\mu_\\text{e,0}^{(g)} + \n",
    "                     c_\\text{e,p}^{(g)} \\, \\mu_\\text{e,p}^{(g)} \n",
    "                     \\bigr)\n",
    "                     f_{\\text{e}_g}(t),\n",
    "\\end{equation*}\n",
    "\n",
    "the first term being the outflow to freedom and the second is a familiar term from the prison population balance.\n",
    "Hence overall we have\n",
    "\n",
    "\\begin{equation*}\n",
    "d_t f_{\\text{e}_g}(t) = \n",
    "     \\bigl( c_\\text{p,e}^{(g)} \\, f_{\\text{p}_g}(t) \\, \\mu_\\text{p,e}^{(g)} \\bigr) - \n",
    "     \\bigl( c_\\text{e,0}^{(g)} \\, \\mu_\\text{e,0}^{(g)} + \n",
    "            c_\\text{e,p}^{(g)} \\, \\mu_\\text{e,p}^{(g)}\n",
    "     \\big) \\,f_{\\text{e}_g}(t) -\n",
    "     D_{\\text{e}_g} ,\n",
    "\\end{equation*}\n",
    "\n",
    "where the first term in parenthesis on the right side depends on populations on external nodes (only the prison), the second term depends on the parole population, and the third term is likely a constant for each group. This population balance is non-conservative if the $D_{\\text{e}_g}$ term is non-zero which is always the case; no one lives for ever."
   ]
  },
  {
   "cell_type": "markdown",
   "metadata": {},
   "source": [
    "### Adjucation node population model<a id=\"streetmodel\"></a>"
   ]
  },
  {
   "cell_type": "markdown",
   "metadata": {},
   "source": [
    "The equation for the population balance in the adjucation node is similar as before also:\n",
    "\n",
    "\\begin{equation*}\n",
    "  d_t f_{\\text{a}_g}  = I_{\\text{a}_g} - O_{\\text{a}_g} - D_{\\text{a}_g} ,\n",
    "\\end{equation*}\n",
    "\n",
    "where $f_{\\text{a}_g}(t)$ is the population for group $g$ at time $t$, $I_{\\text{a}_g}(t)$ is the population inflow for group $g$, $O_{\\text{a}_g}(t)$ is the outflow, and $D_{\\text{a}_g}(t)$ is death rate term in adjucation for a given group $g$. The inflow and outflow rates depend on the particular coupling to the arrested (\"r\")\n",
    "node as follows:\n",
    "\n",
    "\\begin{equation*}\n",
    "  I_{\\text{a}_g}(t) = c_\\text{r,a}^{(g)} \\, f_{\\text{r}_g}(t) \\, \\mu_\\text{r,a}^{(g)}.\n",
    "\\end{equation*}\n",
    "\n",
    "Note this term will be the same as the outflow term of the arrested node model to the adjucation node model. Likewise the outflow term in the adjucation node has four contributions and it reads\n",
    "\n",
    "\\begin{equation*}\n",
    " O_{\\text{e}_g}(t) = \\bigl( \n",
    "                     c_\\text{a,0}^{(g)} \\, \\mu_\\text{a,0}^{(g)} + \n",
    "                     c_\\text{a,j}^{(g)} \\, \\mu_\\text{a,j}^{(g)} +\n",
    "                     c_\\text{a,b}^{(g)} \\, \\mu_\\text{a,b}^{(g)} +\n",
    "                     c_\\text{a,p}^{(g)} \\, \\mu_\\text{a,p}^{(g)}   \n",
    "                     \\bigr)\n",
    "                     f_{\\text{a}_g}(t),\n",
    "\\end{equation*}\n",
    "\n",
    "the first term being the outflow to freedom and the other terms associated to the jail, probation, and prison nodes, respectively.\n",
    "Hence overall we have\n",
    "\n",
    "\\begin{equation*}\n",
    "d_t f_{\\text{e}_g}(t) = \n",
    "     \\bigl( c_\\text{r,a}^{(g)} \\, f_{\\text{r}_g}(t) \\, \\mu_\\text{r,a}^{(g)} \\bigr) - \n",
    "     \\bigl( c_\\text{a,0}^{(g)} \\, \\mu_\\text{a,0}^{(g)} + \n",
    "            c_\\text{a,j}^{(g)} \\, \\mu_\\text{a,j}^{(g)} +\n",
    "            c_\\text{a,b}^{(g)} \\, \\mu_\\text{a,b}^{(g)} +\n",
    "            c_\\text{a,p}^{(g)} \\, \\mu_\\text{a,p}^{(g)}\n",
    "     \\big) \\,f_{\\text{a}_g}(t) -\n",
    "     D_{\\text{a}_g} ,\n",
    "\\end{equation*}\n",
    "\n",
    "where the first term in parenthesis on the right side depends on a population on a external node (only the arrested node), the second term depends on the adjucation population, and the third term is likely a constant for each group. This population balance is non-conservative if the $D_{\\text{a}_g}$ term is non-zero which is always the case."
   ]
  },
  {
   "cell_type": "markdown",
   "metadata": {},
   "source": [
    "### Jail node population model<a id=\"jailmodel\"></a>"
   ]
  },
  {
   "cell_type": "markdown",
   "metadata": {},
   "source": [
    "## Write the run context<a id=\"runfile\"></a>"
   ]
  },
  {
   "cell_type": "code",
   "execution_count": 1,
   "metadata": {},
   "outputs": [],
   "source": [
    "# Import various packages; must have the Cortix repository installed\n",
    "\n",
    "import matplotlib.pyplot as plt\n",
    "\n",
    "try:\n",
    "    import cortix  # creates the `name` cortix\n",
    "except ImportError:\n",
    "    print('Installing the \"cortix\" package...')\n",
    "    print('')\n",
    "    !pip install cortix --no-deps\n",
    "    !pip install pandas networkx scipy numpy matplotlib\n",
    "    import cortix\n",
    "\n",
    "import scipy.constants as const\n",
    "\n",
    "from cortix.src.module import Module\n",
    "from cortix.src.cortix_main import Cortix\n",
    "\n",
    "from cortix.examples.prison import Prison\n",
    "from cortix.examples.parole import Parole\n",
    "from cortix.examples.adjucation import Adjucation"
   ]
  },
  {
   "cell_type": "code",
   "execution_count": 2,
   "metadata": {
    "code_folding": []
   },
   "outputs": [
    {
     "name": "stderr",
     "output_type": "stream",
     "text": [
      "[28427] 2019-08-04 00:46:29,884 - cortix - INFO - Created Cortix object \n",
      "_____________________________________________________________________________\n",
      "                             L A U N C H I N G                               \n",
      "_____________________________________________________________________________\n",
      "      ...                                        s       .     (TAAG Fraktur)\n",
      "   xH88\"`~ .x8X                                 :8      @88>\n",
      " :8888   .f\"8888Hf        u.      .u    .      .88      %8P      uL   ..\n",
      ":8888>  X8L  ^\"\"`   ...ue888b   .d88B :@8c    :888ooo    .     .@88b  @88R\n",
      "X8888  X888h        888R Y888r =\"8888f8888r -*8888888  .@88u  \"\"Y888k/\"*P\n",
      "88888  !88888.      888R I888>   4888>\"88\"    8888    888E`    Y888L\n",
      "88888   %88888      888R I888>   4888> \"      8888      888E      8888\n",
      "88888 `> `8888>     888R I888>   4888>        8888      888E      `888N\n",
      "`8888L %  ?888   ! u8888cJ888   .d888L .+    .8888Lu=   888E   .u./\"888&\n",
      " `8888  `-*\"\"   /   \"*888*P\"    ^\"8888*\"     ^%888*     888&  d888\" Y888*\"\n",
      "   \"888.      :\"      \"Y\"          \"Y\"         \"Y\"      R888\" ` \"Y   Y\"\n",
      "     `\"\"***~\"`                                           \"\"\n",
      "                             https://cortix.org                              \n",
      "_____________________________________________________________________________\n"
     ]
    }
   ],
   "source": [
    "# Setup parameters\n",
    "end_time  = 100 * const.day\n",
    "time_step = 0.5 * const.day\n",
    "n_groups  = 2   # number of population groups\n",
    "\n",
    "# Create a Cortix object with Python multiprocessing\n",
    "cortix = Cortix(use_mpi=False)"
   ]
  },
  {
   "cell_type": "code",
   "execution_count": 3,
   "metadata": {},
   "outputs": [],
   "source": [
    "# Create the application network\n",
    "\n",
    "prison = Prison(n_groups=n_groups)\n",
    "cortix.add_module(prison)\n",
    "prison.end_time = end_time\n",
    "prison.time_step = time_step\n",
    "\n",
    "parole = Parole(n_groups=n_groups)\n",
    "cortix.add_module(parole)\n",
    "parole.end_time = end_time\n",
    "parole.time_step = time_step\n",
    "\n",
    "adjucation = Adjucation(n_groups=n_groups)\n",
    "cortix.add_module(adjucation)\n",
    "adjucation.end_time = end_time\n",
    "adjucation.time_step = time_step\n",
    "\n",
    "prison.connect( 'parole', parole.get_port('prison') )\n",
    "adjucation.connect( 'prison', prison.get_port('adjucation') )"
   ]
  },
  {
   "cell_type": "markdown",
   "metadata": {},
   "source": [
    "## Verify the network connectivity<a id=\"net\"></a>"
   ]
  },
  {
   "cell_type": "code",
   "execution_count": 4,
   "metadata": {},
   "outputs": [
    {
     "name": "stderr",
     "output_type": "stream",
     "text": [
      "/anaconda3/lib/python3.7/site-packages/networkx/drawing/nx_pylab.py:611: MatplotlibDeprecationWarning: isinstance(..., numbers.Number)\n",
      "  if cb.is_numlike(alpha):\n"
     ]
    },
    {
     "data": {
      "image/png": "[encoded data removed]",
      "text/plain": [
       "<Figure size 432x288 with 1 Axes>"
      ]
     },
     "metadata": {},
     "output_type": "display_data"
    }
   ],
   "source": [
    "# View the Cortix network created\n",
    "\n",
    "cortix.draw_network()\n",
    "plt.show()"
   ]
  },
  {
   "cell_type": "markdown",
   "metadata": {},
   "source": [
    "## Run network simulation<a id=\"run\"></a>"
   ]
  },
  {
   "cell_type": "code",
   "execution_count": 5,
   "metadata": {},
   "outputs": [
    {
     "name": "stderr",
     "output_type": "stream",
     "text": [
      "[28427] 2019-08-04 00:46:30,105 - cortix - INFO - Launching Module <cortix.examples.prison.Prison object at 0x15255832b0>\n",
      "[28427] 2019-08-04 00:46:30,111 - cortix - INFO - Launching Module <cortix.examples.parole.Parole object at 0x1524557f28>\n",
      "[28427] 2019-08-04 00:46:30,118 - cortix - INFO - Launching Module <cortix.examples.adjucation.Adjucation object at 0x15254fc4e0>\n",
      "[28427] 2019-08-04 00:46:32,195 - cortix - INFO - Module <cortix.examples.parole.Parole object at 0x1524557f28> getting new state\n",
      "[28427] 2019-08-04 00:46:32,198 - cortix - INFO - Module <cortix.examples.adjucation.Adjucation object at 0x15254fc4e0> getting new state\n",
      "[28427] 2019-08-04 00:46:32,200 - cortix - INFO - Module <cortix.examples.prison.Prison object at 0x15255832b0> getting new state\n"
     ]
    }
   ],
   "source": [
    "# Run the simulation!\n",
    "\n",
    "cortix.run()"
   ]
  },
  {
   "cell_type": "markdown",
   "metadata": {},
   "source": [
    "## Results inspection through Cortix<a id=\"inspect\"></a>"
   ]
  },
  {
   "cell_type": "code",
   "execution_count": 6,
   "metadata": {},
   "outputs": [
    {
     "data": {
      "text/plain": [
       "[<cortix.examples.prison.Prison at 0x15255832b0>,\n",
       " <cortix.examples.parole.Parole at 0x1524557f28>,\n",
       " <cortix.examples.adjucation.Adjucation at 0x15254fc4e0>]"
      ]
     },
     "execution_count": 6,
     "metadata": {},
     "output_type": "execute_result"
    }
   ],
   "source": [
    "'''List of modules in Cortix'''\n",
    "\n",
    "cortix.modules"
   ]
  },
  {
   "cell_type": "code",
   "execution_count": 7,
   "metadata": {},
   "outputs": [],
   "source": [
    "'''Attach to modules'''\n",
    "\n",
    "prison=cortix.modules[0]\n",
    "parole=cortix.modules[1]\n",
    "adjucation=cortix.modules[2]"
   ]
  },
  {
   "cell_type": "markdown",
   "metadata": {},
   "source": [
    "### Prison module<a id=\"prison\"></a>"
   ]
  },
  {
   "cell_type": "code",
   "execution_count": 8,
   "metadata": {},
   "outputs": [
    {
     "data": {
      "image/png": "[encoded data removed]",
      "text/plain": [
       "<Figure size 432x288 with 1 Axes>"
      ]
     },
     "metadata": {
      "needs_background": "light"
     },
     "output_type": "display_data"
    }
   ],
   "source": [
    "'''Prison Module State'''\n",
    "\n",
    "population_phase = prison.state\n",
    "(fpg_quant, time_unit) = population_phase.get_quantity_history('fpg')\n",
    "\n",
    "fpg_quant.plot( x_scaling=1/const.day, x_label='Time [day]')\n",
    "plt.grid()\n",
    "plt.show()"
   ]
  },
  {
   "cell_type": "markdown",
   "metadata": {},
   "source": [
    "### Parole module<a id=\"parole\"></a>"
   ]
  },
  {
   "cell_type": "code",
   "execution_count": 9,
   "metadata": {},
   "outputs": [
    {
     "data": {
      "image/png": "[encoded data removed]",
      "text/plain": [
       "<Figure size 432x288 with 1 Axes>"
      ]
     },
     "metadata": {
      "needs_background": "light"
     },
     "output_type": "display_data"
    }
   ],
   "source": [
    "'''Parole Module State'''\n",
    "\n",
    "population_phase = prison.state\n",
    "(fpg_quant, time_unit) = population_phase.get_quantity_history('fpg')\n",
    "\n",
    "fpg_quant.plot( x_scaling=1/const.day, x_label='Time [day]')\n",
    "plt.grid()\n",
    "plt.show()"
   ]
  },
  {
   "cell_type": "markdown",
   "metadata": {},
   "source": [
    "### Adjucation module<a id=\"parole\"></a>"
   ]
  },
  {
   "cell_type": "code",
   "execution_count": 10,
   "metadata": {},
   "outputs": [
    {
     "data": {
      "image/png": "[encoded data removed]",
      "text/plain": [
       "<Figure size 432x288 with 1 Axes>"
      ]
     },
     "metadata": {
      "needs_background": "light"
     },
     "output_type": "display_data"
    }
   ],
   "source": [
    "'''Adjucation Module State'''\n",
    "\n",
    "population_phase = adjucation.state\n",
    "(fag_quant, time_unit) = population_phase.get_quantity_history('fag')\n",
    "\n",
    "fag_quant.plot( x_scaling=1/const.day, x_label='Time [day]')\n",
    "plt.grid()\n",
    "plt.show()"
   ]
  },
  {
   "cell_type": "code",
   "execution_count": null,
   "metadata": {},
   "outputs": [],
   "source": []
  }
 ],
 "metadata": {
  "kernelspec": {
   "display_name": "Python 3",
   "language": "python",
   "name": "python3"
  },
  "language_info": {
   "codemirror_mode": {
    "name": "ipython",
    "version": 3
   },
   "file_extension": ".py",
   "mimetype": "text/x-python",
   "name": "python",
   "nbconvert_exporter": "python",
   "pygments_lexer": "ipython3",
   "version": "3.7.1"
  },
  "latex_envs": {
   "LaTeX_envs_menu_present": true,
   "autoclose": false,
   "autocomplete": true,
   "bibliofile": "biblio.bib",
   "cite_by": "apalike",
   "current_citInitial": 1,
   "eqLabelWithNumbers": true,
   "eqNumInitial": 1,
   "hotkeys": {
    "equation": "Ctrl-E",
    "itemize": "Ctrl-I"
   },
   "labels_anchors": false,
   "latex_user_defs": false,
   "report_style_numbering": false,
   "user_envs_cfg": false
  }
 },
 "nbformat": 4,
 "nbformat_minor": 2
}
