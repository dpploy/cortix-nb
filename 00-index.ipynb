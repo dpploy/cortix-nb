{
 "cells": [
  {
   "cell_type": "markdown",
   "metadata": {},
   "source": [
    "# [Cortix](https://github.com/dpploy/cortix) Jupyter Notebooks Repository\n",
    "\n",
    "\n",
    "List of notebooks.\n",
    "+ [00 This Index](https://github.com/dpploy/cortix-nb/blob/master/00-index.ipynb)\n",
    "+ [Droplet](https://github.com/dpploy/cortix-nb/blob/droplet.ipynb)"
   ]
  }
 ],
 "metadata": {
  "kernelspec": {
   "display_name": "Python 3",
   "language": "python3",
   "name": "python3"
  },
  "language_info": {
   "codemirror_mode": {
    "name": "ipython",
    "version": 3
   },
   "file_extension": ".py",
   "mimetype": "text/x-python",
   "name": "python",
   "nbconvert_exporter": "python",
   "pygments_lexer": "ipython3",
   "version": "3.6.5"
  }
 },
 "nbformat": 4,
 "nbformat_minor": 2
}
