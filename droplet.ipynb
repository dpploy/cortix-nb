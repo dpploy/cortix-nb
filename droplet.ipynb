{
 "cells": [
  {
   "cell_type": "markdown",
   "metadata": {},
   "source": [
    "# Droplet Example\n",
    "This is part of the [Cortix](https://github.com/dpploy/cortix) Notebook [guides](https://github.com/dpploy/cortix-nb)\n",
    "([index](https://github.com/dpploy/cortix-nb/blob/master/droplet.ipynb))."
   ]
  },
  {
   "cell_type": "code",
   "execution_count": null,
   "metadata": {},
   "outputs": [],
   "source": [
    "import cortix.examples.main.main_droplet as droplet # import the droplet example"
   ]
  },
  {
   "cell_type": "code",
   "execution_count": null,
   "metadata": {},
   "outputs": [],
   "source": [
    "droplet.run() # Run the droplet simulation"
   ]
  },
  {
   "cell_type": "markdown",
   "metadata": {},
   "source": [
    "![Results of the simulation](\"\")"
   ]
  },
  {
   "cell_type": "code",
   "execution_count": null,
   "metadata": {
    "scrolled": false
   },
   "outputs": [],
   "source": [
    "from IPython.display import Image\n",
    "Image(filename='pyplot_0-timeseq-dashboard-00.png')\n",
    "\n",
    "# experimenting with matplotlib\n",
    "#from matplotlib import pyplot as plt\n",
    "#plt.rcParams['figure.figsize'] = [20,4]\n",
    "#mtrx = plt.imread('pyplot_0-timeseq-dashboard-00.png',format='png')\n",
    "#plt.figure(1)\n",
    "#plt.imshow(mtrx)"
   ]
  },
  {
   "cell_type": "code",
   "execution_count": null,
   "metadata": {},
   "outputs": [],
   "source": [
    "# experimenting with pickled matplotlib figure\n",
    "#import pickle\n",
    "#fig = pickle.load( open('pyplot_0-timeseq-dashboard-00.pickle','rb') )\n",
    "#fig.show()"
   ]
  }
 ],
 "metadata": {
  "kernelspec": {
   "display_name": "Python 3",
   "language": "python",
   "name": "python3"
  },
  "language_info": {
   "codemirror_mode": {
    "name": "ipython",
    "version": 3
   },
   "file_extension": ".py",
   "mimetype": "text/x-python",
   "name": "python",
   "nbconvert_exporter": "python",
   "pygments_lexer": "ipython3",
   "version": "3.6.5"
  }
 },
 "nbformat": 4,
 "nbformat_minor": 2
}
