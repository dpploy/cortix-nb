{
 "cells": [
  {
   "cell_type": "markdown",
   "metadata": {},
   "source": [
    "# Droplet Example\n",
    "* This is part of the [Cortix](https://github.com/dpploy/cortix) Notebook [guides](https://github.com/dpploy/cortix-nb)\n",
    "([index](https://github.com/dpploy/cortix-nb/blob/master/droplet.ipynb)).\n",
    "* Select each of the cells below and run them sequentially (use the run button, `>|` on the tool bar or use the `Cell` option on the menu bar).\n",
    "* Alternatively, on the menu bar run all cells: `Cell -> Run All`."
   ]
  },
  {
   "cell_type": "code",
   "execution_count": null,
   "metadata": {
    "collapsed": true
   },
   "outputs": [],
   "source": [
    "'''Importing Cortix'''\n",
    "\n",
    "try:\n",
    "    import cortix  # creates the `name` cortix\n",
    "except ImportError:\n",
    "    print('Installing the \"cortix\" package...')\n",
    "    print('')\n",
    "    !pip install cortix\n",
    "    import cortix"
   ]
  },
  {
   "cell_type": "code",
   "execution_count": null,
   "metadata": {
    "collapsed": true
   },
   "outputs": [],
   "source": [
    "'''Import the Droplet Cortix Application'''\n",
    "\n",
    "import cortix.examples.notebook_run.droplet as droplet # import the Droplet example"
   ]
  },
  {
   "cell_type": "code",
   "execution_count": null,
   "metadata": {},
   "outputs": [],
   "source": [
    "help(droplet)"
   ]
  },
  {
   "cell_type": "markdown",
   "metadata": {},
   "source": [
    "## Run a task"
   ]
  },
  {
   "cell_type": "code",
   "execution_count": null,
   "metadata": {
    "scrolled": true
   },
   "outputs": [],
   "source": [
    "simulation = droplet.run('droplet-vortex') # Run a droplet simulation task"
   ]
  },
  {
   "cell_type": "markdown",
   "metadata": {},
   "source": [
    "## Plot the results\n",
    "Collect results for plotting."
   ]
  },
  {
   "cell_type": "code",
   "execution_count": null,
   "metadata": {
    "collapsed": true
   },
   "outputs": [],
   "source": [
    "'''Access the network for the executed task'''\n",
    "\n",
    "network = simulation.application.get_network('droplet-vortex')"
   ]
  },
  {
   "cell_type": "code",
   "execution_count": null,
   "metadata": {},
   "outputs": [],
   "source": [
    "help(network)"
   ]
  },
  {
   "cell_type": "code",
   "execution_count": null,
   "metadata": {},
   "outputs": [],
   "source": [
    "network.connectivity"
   ]
  },
  {
   "cell_type": "code",
   "execution_count": null,
   "metadata": {
    "collapsed": true
   },
   "outputs": [],
   "source": [
    "application = simulation.application"
   ]
  },
  {
   "cell_type": "code",
   "execution_count": null,
   "metadata": {
    "collapsed": true
   },
   "outputs": [],
   "source": [
    "droplet = application.get_module('droplet')"
   ]
  },
  {
   "cell_type": "code",
   "execution_count": null,
   "metadata": {},
   "outputs": [],
   "source": [
    "print(droplet.diagram)"
   ]
  },
  {
   "cell_type": "code",
   "execution_count": null,
   "metadata": {},
   "outputs": [],
   "source": [
    "'''Obtain the runtime file for the desired port in the Droplet module'''\n",
    "\n",
    "output_data_filename = network.get_runtime_port_comm_file('droplet_0','output')"
   ]
  },
  {
   "cell_type": "code",
   "execution_count": null,
   "metadata": {
    "collapsed": true
   },
   "outputs": [],
   "source": [
    "'''Per Droplet Manifesto \"output\" is a pickled file'''\n",
    "\n",
    "import pickle\n",
    "phase = pickle.load( open(output_data_filename,'rb') )"
   ]
  },
  {
   "cell_type": "code",
   "execution_count": null,
   "metadata": {
    "collapsed": true
   },
   "outputs": [],
   "source": [
    "'''Collect quantities in the Droplet material phase and build a table'''\n",
    "\n",
    "import pandas as pd\n",
    "data = dict()\n",
    "\n",
    "time_key = 'Time ['+phase.time_unit+']'\n",
    "data[time_key] = phase.time_stamps\n",
    "\n",
    "velo_key = 'Velocity'+' ['+phase.GetQuantity('velocity').unit+']'\n",
    "data[velo_key] = phase.GetColumn('velocity')\n",
    "\n",
    "velo_key = 'Spatial Position'+' ['+phase.GetQuantity('spatial-position').unit+']'\n",
    "data[velo_key] = phase.GetColumn('spatial-position')\n",
    "\n",
    "df = pd.DataFrame(data)"
   ]
  },
  {
   "cell_type": "code",
   "execution_count": null,
   "metadata": {
    "collapsed": true
   },
   "outputs": [],
   "source": [
    "df"
   ]
  },
  {
   "cell_type": "code",
   "execution_count": null,
   "metadata": {
    "collapsed": true
   },
   "outputs": [],
   "source": [
    "'''Screen output of the data frame'''\n",
    "\n",
    "# uncomment below\n",
    "#df"
   ]
  },
  {
   "cell_type": "code",
   "execution_count": null,
   "metadata": {
    "collapsed": true
   },
   "outputs": [],
   "source": [
    "'''Make plots with Matplolib'''\n",
    "\n",
    "import matplotlib.pyplot as plt\n",
    "%matplotlib inline\n",
    "\n",
    "fit, ax = plt.subplots(2,1,figsize=(12,6))     # create a figure placeholder\n",
    "\n",
    "x_data  = df['Time [s]']  \n",
    "y1_data = [v[2] for v in df['Velocity [m/s]']]\n",
    "y2_data = [p[2] for p in df['Spatial Position [m]']]\n",
    "\n",
    "# plot y_data versus x_data\n",
    "ax[0].plot( x_data, y1_data, '-.',color='blue', marker='*',markersize=9 )\n",
    "ax[1].plot( x_data, y2_data, '-.',color='blue', marker='*',markersize=9 )\n",
    "\n",
    "# various annotations of the plot\n",
    "ax[0].xaxis.grid(True,linestyle='-',which='major',color='lightgrey',alpha=0.9)\n",
    "ax[1].xaxis.grid(True,linestyle='-',which='major',color='lightgrey',alpha=0.9)\n",
    "ax[0].yaxis.grid(True,linestyle='-',which='major',color='lightgrey',alpha=0.9)\n",
    "ax[1].yaxis.grid(True,linestyle='-',which='major',color='lightgrey',alpha=0.9)\n",
    "ax[1].set_xlabel('Time [s]',fontsize=12)\n",
    "ax[1].set_ylabel('Height [m]',fontsize=12)\n",
    "ax[0].set_ylabel('Speed [m/s]',fontsize=12)\n",
    "plt.show()"
   ]
  },
  {
   "cell_type": "code",
   "execution_count": null,
   "metadata": {
    "collapsed": true,
    "scrolled": false
   },
   "outputs": [],
   "source": [
    "'''Legacy showing how to view images of the results created by Droplet'''\n",
    "\n",
    "from matplotlib import pyplot as plt\n",
    "%matplotlib inline\n",
    "plt.rcParams['figure.figsize'] = [100,50]\n",
    "plots = list()\n",
    "plots.append(plt.imread('pyplot_0-timeseq-dashboard-00.png',format='png'))\n",
    "plots.append(plt.imread('pyplot_0-timeseq-dashboard-01.png',format='png'))\n",
    "plots.append(plt.imread('pyplot_0-timeseq-dashboard-02.png',format='png'))\n",
    "plt.figure(1)\n",
    "for (i,plot) in zip(range(len(plots)), plots):\n",
    "    plt.subplot(len(plots),1,i+1)\n",
    "    plt.imshow(plot,cmap='gray')\n",
    "    plt.axis('off')\n",
    "plt.show()"
   ]
  },
  {
   "cell_type": "markdown",
   "metadata": {},
   "source": [
    "## Run a test task"
   ]
  },
  {
   "cell_type": "code",
   "execution_count": null,
   "metadata": {
    "collapsed": true
   },
   "outputs": [],
   "source": [
    "droplet.run('solo-droplet') # Run a droplet simulation task without visualization"
   ]
  },
  {
   "cell_type": "markdown",
   "metadata": {},
   "source": [
    "## Run a test task"
   ]
  },
  {
   "cell_type": "code",
   "execution_count": null,
   "metadata": {
    "collapsed": true
   },
   "outputs": [],
   "source": [
    "droplet.run('solo-pyplot') # Run a droplet simulation task without visualization"
   ]
  }
 ],
 "metadata": {
  "kernelspec": {
   "display_name": "Python 3",
   "language": "python3",
   "name": "python3"
  },
  "language_info": {
   "codemirror_mode": {
    "name": "ipython",
    "version": 3
   },
   "file_extension": ".py",
   "mimetype": "text/x-python",
   "name": "python",
   "nbconvert_exporter": "python",
   "pygments_lexer": "ipython3",
   "version": "3.6.5"
  },
  "latex_envs": {
   "LaTeX_envs_menu_present": true,
   "autoclose": false,
   "autocomplete": true,
   "bibliofile": "biblio.bib",
   "cite_by": "apalike",
   "current_citInitial": 1,
   "eqLabelWithNumbers": true,
   "eqNumInitial": 1,
   "hotkeys": {
    "equation": "Ctrl-E",
    "itemize": "Ctrl-I"
   },
   "labels_anchors": false,
   "latex_user_defs": false,
   "report_style_numbering": false,
   "user_envs_cfg": false
  }
 },
 "nbformat": 4,
 "nbformat_minor": 2
}
